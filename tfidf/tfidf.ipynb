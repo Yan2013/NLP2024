{
 "cells": [
  {
   "cell_type": "code",
   "execution_count": 12,
   "metadata": {},
   "outputs": [],
   "source": [
    "import re\n",
    "import string\n",
    "import pandas as pd\n",
    "from functools import reduce\n",
    "from math import log"
   ]
  },
  {
   "cell_type": "markdown",
   "metadata": {},
   "source": [
    "## Simple example of [TF-IDF](https://en.wikipedia.org/wiki/Tf%E2%80%93idf)\n",
    "1. Example of corpus\n",
    "2. Preprocessing and Tokenizing\n",
    "3. Calculating bag of words\n",
    "4. TF\n",
    "5. IDF\n",
    "6. TF-IDF"
   ]
  },
  {
   "cell_type": "markdown",
   "metadata": {},
   "source": [
    "首先，我们看一个简单语料库的例子。这个语料库只有三个句子，句子本身也比较相近,也有重复的单词。为了方便处理，把语料库按照换行符进行了切分，并且删除了第一和最后的空句子。\n",
    "First, let’s look at an example of a simple corpus.There are only three sentences in the corpus, and the sentences are quite similar.To facilitate processing, the corpus has been split by line breaks and the first and last empty sentences have been deleted."
   ]
  },
  {
   "cell_type": "code",
   "execution_count": 127,
   "metadata": {},
   "outputs": [
    {
     "name": "stdout",
     "output_type": "stream",
     "text": [
      "['Simple example with Cats and Mouse and dogs', 'Another simple example with dogs and cats', 'Another simple example with mouse and cheese']\n"
     ]
    }
   ],
   "source": [
    "#1\n",
    "corpus = \"\"\"\n",
    "Simple example with Cats and Mouse and dogs\n",
    "Another simple example with dogs and cats\n",
    "Another simple example with mouse and cheese\n",
    "\"\"\".split(\"\\n\")[1:-1]\n",
    "print(corpus)"
   ]
  },
  {
   "cell_type": "markdown",
   "metadata": {},
   "source": [
    "处理三个句子，所有单词切分，变成小写的形式，便于接下来对单词本身进行处理。\n",
    "Split the three sentences, and all words are converted to lower case forms to facilitate the following processing."
   ]
  },
  {
   "cell_type": "code",
   "execution_count": 128,
   "metadata": {},
   "outputs": [
    {
     "name": "stdout",
     "output_type": "stream",
     "text": [
      "['simple', 'example', 'with', 'cats', 'and', 'mouse', 'and', 'dogs']\n",
      "['another', 'simple', 'example', 'with', 'dogs', 'and', 'cats']\n",
      "['another', 'simple', 'example', 'with', 'mouse', 'and', 'cheese']\n"
     ]
    }
   ],
   "source": [
    "#2\n",
    "l_A = corpus[0].lower().split()\n",
    "l_B = corpus[1].lower().split()\n",
    "l_C = corpus[2].lower().split()\n",
    "\n",
    "print(l_A)\n",
    "print(l_B)\n",
    "print(l_C)"
   ]
  },
  {
   "cell_type": "markdown",
   "metadata": {},
   "source": [
    "从语料库中获得词典，集合set中会自动去除重复的单词。\n",
    "Form a dictionary from the sentences, with set and union. "
   ]
  },
  {
   "cell_type": "code",
   "execution_count": 129,
   "metadata": {},
   "outputs": [
    {
     "name": "stdout",
     "output_type": "stream",
     "text": [
      "{'cheese', 'example', 'and', 'simple', 'mouse', 'cats', 'dogs', 'with', 'another'}\n"
     ]
    }
   ],
   "source": [
    "#3\n",
    "word_set = set(l_A).union(set(l_B)).union(set(l_C))\n",
    "print(word_set)"
   ]
  },
  {
   "cell_type": "markdown",
   "metadata": {},
   "source": [
    "统计每个句子中出现的单词以及单词出现的次数\n",
    " count the occurrence of words in each sentence"
   ]
  },
  {
   "cell_type": "code",
   "execution_count": 130,
   "metadata": {},
   "outputs": [
    {
     "name": "stdout",
     "output_type": "stream",
     "text": [
      "{'cheese': 0, 'example': 0, 'and': 0, 'simple': 0, 'mouse': 0, 'cats': 0, 'dogs': 0, 'with': 0, 'another': 0}\n",
      "{'cheese': 1, 'example': 1, 'and': 1, 'simple': 1, 'mouse': 1, 'cats': 0, 'dogs': 0, 'with': 1, 'another': 1}\n"
     ]
    },
    {
     "data": {
      "text/html": [
       "<div>\n",
       "<style scoped>\n",
       "    .dataframe tbody tr th:only-of-type {\n",
       "        vertical-align: middle;\n",
       "    }\n",
       "\n",
       "    .dataframe tbody tr th {\n",
       "        vertical-align: top;\n",
       "    }\n",
       "\n",
       "    .dataframe thead th {\n",
       "        text-align: right;\n",
       "    }\n",
       "</style>\n",
       "<table border=\"1\" class=\"dataframe\">\n",
       "  <thead>\n",
       "    <tr style=\"text-align: right;\">\n",
       "      <th></th>\n",
       "      <th>cheese</th>\n",
       "      <th>example</th>\n",
       "      <th>and</th>\n",
       "      <th>simple</th>\n",
       "      <th>mouse</th>\n",
       "      <th>cats</th>\n",
       "      <th>dogs</th>\n",
       "      <th>with</th>\n",
       "      <th>another</th>\n",
       "    </tr>\n",
       "  </thead>\n",
       "  <tbody>\n",
       "    <tr>\n",
       "      <th>0</th>\n",
       "      <td>0</td>\n",
       "      <td>1</td>\n",
       "      <td>2</td>\n",
       "      <td>1</td>\n",
       "      <td>1</td>\n",
       "      <td>1</td>\n",
       "      <td>1</td>\n",
       "      <td>1</td>\n",
       "      <td>0</td>\n",
       "    </tr>\n",
       "    <tr>\n",
       "      <th>1</th>\n",
       "      <td>0</td>\n",
       "      <td>1</td>\n",
       "      <td>1</td>\n",
       "      <td>1</td>\n",
       "      <td>0</td>\n",
       "      <td>1</td>\n",
       "      <td>1</td>\n",
       "      <td>1</td>\n",
       "      <td>1</td>\n",
       "    </tr>\n",
       "    <tr>\n",
       "      <th>2</th>\n",
       "      <td>1</td>\n",
       "      <td>1</td>\n",
       "      <td>1</td>\n",
       "      <td>1</td>\n",
       "      <td>1</td>\n",
       "      <td>0</td>\n",
       "      <td>0</td>\n",
       "      <td>1</td>\n",
       "      <td>1</td>\n",
       "    </tr>\n",
       "  </tbody>\n",
       "</table>\n",
       "</div>"
      ],
      "text/plain": [
       "   cheese  example  and  simple  mouse  cats  dogs  with  another\n",
       "0       0        1    2       1      1     1     1     1        0\n",
       "1       0        1    1       1      0     1     1     1        1\n",
       "2       1        1    1       1      1     0     0     1        1"
      ]
     },
     "execution_count": 130,
     "metadata": {},
     "output_type": "execute_result"
    }
   ],
   "source": [
    "word_dict_A = dict.fromkeys(word_set, 0)\n",
    "print(word_dict_A)\n",
    "\n",
    "word_dict_B = dict.fromkeys(word_set, 0)\n",
    "word_dict_C = dict.fromkeys(word_set, 0)\n",
    "\n",
    "for word in l_A:\n",
    "    word_dict_A[word] += 1\n",
    "\n",
    "for word in l_B:\n",
    "    word_dict_B[word] += 1\n",
    "\n",
    "for word in l_C:\n",
    "    word_dict_C[word] += 1\n",
    "\n",
    "print(word_dict_C)\n",
    "\n",
    "pd.DataFrame([word_dict_A, word_dict_B, word_dict_C])"
   ]
  },
  {
   "cell_type": "markdown",
   "metadata": {},
   "source": [
    "词频就是一个词（term）在一个文档中（document）出现的次数（frequency）除以文档中的总词数，记为 tf(t,d)。这是一种最简单的定义方式。\n",
    "词频的优点是简单，但缺点也很显然：\n",
    "词频中没有包含词的位置信息，所以从词频的角度来看，\"Mary is quicker than John\"和\"John is quicker than Mary\"两条文档是完全一致的，\n",
    "但显然它们的含义是完全相反的。词频没有考虑不同词的重要性一般是不一样的，比如停用词的词频都很高，但它们并不重要。\n",
    "\n",
    "Term frequency (TF) is the number of times a term (word) appears in a document compared to the total number of words in the document. denoted as tf(t,d). This is the simplest possible definition.\n",
    "The advantage of term frequency is its simplicity, but its disadvantages are also apparent: term frequency does not include information \n",
    "about the position of words, so from the perspective of term frequency, the documents \"Mary is quicker than John\" and \"John is quicker than \n",
    "Mary\" are completely identical, but it's obvious that their meanings are completely opposite. Term frequency does not consider that different\n",
    "words are usually of different importance; for example, the frequency of stop words is generally high, but they are not important."
   ]
  },
  {
   "cell_type": "code",
   "execution_count": 131,
   "metadata": {},
   "outputs": [],
   "source": [
    "def compute_tf(word_dict, l):\n",
    "    tf = {}\n",
    "    sum_nk = len(l)\n",
    "    for word, count in word_dict.items():\n",
    "        tf[word] = count/sum_nk\n",
    "    return tf"
   ]
  },
  {
   "cell_type": "code",
   "execution_count": 132,
   "metadata": {},
   "outputs": [],
   "source": [
    "tf_A = compute_tf(word_dict_A, l_A)\n",
    "tf_B = compute_tf(word_dict_B, l_B)\n",
    "tf_C = compute_tf(word_dict_C, l_C)"
   ]
  },
  {
   "cell_type": "code",
   "execution_count": 133,
   "metadata": {},
   "outputs": [
    {
     "data": {
      "text/plain": [
       "{'cheese': 0.0,\n",
       " 'example': 0.125,\n",
       " 'and': 0.25,\n",
       " 'simple': 0.125,\n",
       " 'mouse': 0.125,\n",
       " 'cats': 0.125,\n",
       " 'dogs': 0.125,\n",
       " 'with': 0.125,\n",
       " 'another': 0.0}"
      ]
     },
     "execution_count": 133,
     "metadata": {},
     "output_type": "execute_result"
    }
   ],
   "source": [
    "#Simple example with Cats and Mouse\n",
    "tf_A"
   ]
  },
  {
   "cell_type": "markdown",
   "metadata": {},
   "source": [
    "逆文档频率（Inverse Document Frequency, IDF）是一个术语在语料库中包含该术语的文档的比例。那些只存在于一小部分文档中的单词（例如，技术术语）比那些出现在所有文档中的单词（例如，a, the, and）获得更高的权重值。\n",
    "\n",
    "Inverse Document Frequency: IDF of a term reflects the proportion of documents in the corpus that contain the term. Words unique to a small percentage of documents (e.g., technical jargon terms) receive higher importance values than words common across all documents (e.g., a, the, and).\n",
    "## \\#5 idf - inverse document frequency\n",
    "idf is a measure of how much information the word provides\n",
    "$$ \\mathrm{idf}(t, D) =  \\log \\frac{N}{|\\{d \\in D: t \\in d\\}|} $$\n",
    "- $N$: total number of strings in the corpus ${\\displaystyle N={|D|}}$\n",
    "- ${\\displaystyle |\\{d\\in D:t\\in d\\}|}$  : number of strings where the term ${\\displaystyle t}$ appears (i.e., ${\\displaystyle \\mathrm {tf} (t,d)\\neq 0})$. If the term is not in the corpus, this will lead to a division-by-zero. It is therefore common to adjust the denominator to ${\\displaystyle 1+|\\{d\\in D:t\\in d\\}|}$.\n",
    "    \n",
    "对于固定的语料库，N是固定的，一个词的在各个文献中出现的次数越多，其idf(t,D)就越小。所以那些很稀少的词的idf 值会很高，而像停用词这种出现频率很高的词idf值很低。\n",
    "In a fixed corpus, N is constant. The more frequently a term appears in various documents, the smaller its IDF(t,D) value will be. Therefore, terms that are very rare will have high IDF values, while terms like stop words, which appear frequently in all documents, will have low IDF values."
   ]
  },
  {
   "cell_type": "code",
   "execution_count": 134,
   "metadata": {},
   "outputs": [],
   "source": [
    "def compute_idf(strings_list):\n",
    "    n = len(strings_list)\n",
    "    idf = dict.fromkeys(strings_list[0].keys(), 0)\n",
    "    \n",
    "    for l in strings_list:\n",
    "        for word, count in l.items():\n",
    "            if count > 0:\n",
    "                idf[word] += 1\n",
    "\n",
    "    for word, v in idf.items():\n",
    "        idf[word] = log(n / float(v))\n",
    "    return idf"
   ]
  },
  {
   "cell_type": "code",
   "execution_count": 135,
   "metadata": {},
   "outputs": [
    {
     "data": {
      "text/plain": [
       "{'cheese': 1.0986122886681098,\n",
       " 'example': 0.0,\n",
       " 'and': 0.0,\n",
       " 'simple': 0.0,\n",
       " 'mouse': 0.4054651081081644,\n",
       " 'cats': 0.4054651081081644,\n",
       " 'dogs': 0.4054651081081644,\n",
       " 'with': 0.0,\n",
       " 'another': 0.4054651081081644}"
      ]
     },
     "execution_count": 135,
     "metadata": {},
     "output_type": "execute_result"
    }
   ],
   "source": [
    "idf = compute_idf([word_dict_A, word_dict_B, word_dict_C])\n",
    "\n",
    "idf"
   ]
  },
  {
   "cell_type": "markdown",
   "metadata": {},
   "source": [
    "## \\# 6 tf-idf\n",
    "Then tf–idf is calculated as\n",
    "$$ {\\displaystyle \\mathrm {tfidf} (t,d,D)=\\mathrm {tf} (t,d)\\cdot \\mathrm {idf} (t,D)} $$"
   ]
  },
  {
   "cell_type": "markdown",
   "metadata": {},
   "source": [
    "TF-IDF就是将TF和IDF结合起来，就是简单地相乘。从公式可以分析出来，一个词 t 在某个文档d 中的tf-idf值：\n",
    "\n",
    "当该词在少数文档中出现很多次的时候，其值接近最大值；（tf和idf都很大）\n",
    "当该词在文档中出现次数少或者在很多文档中都出现时，其值较小；（tf或idf比较小）\n",
    "当该词几乎在所有文档中都出现时，其值接近最小值。（idf很小，接近0）"
   ]
  },
  {
   "cell_type": "code",
   "execution_count": 136,
   "metadata": {},
   "outputs": [],
   "source": [
    "def compute_tf_idf(tf, idf):\n",
    "    tf_idf = dict.fromkeys(tf.keys(), 0)\n",
    "    for word, v in tf.items():\n",
    "        tf_idf[word] = v * idf[word]\n",
    "    return tf_idf"
   ]
  },
  {
   "cell_type": "code",
   "execution_count": 137,
   "metadata": {},
   "outputs": [],
   "source": [
    "tf_idf_A = compute_tf_idf(tf_A, idf)\n",
    "tf_idf_B = compute_tf_idf(tf_B, idf)\n",
    "tf_idf_C = compute_tf_idf(tf_C, idf)"
   ]
  },
  {
   "cell_type": "code",
   "execution_count": 138,
   "metadata": {},
   "outputs": [
    {
     "data": {
      "text/html": [
       "<div>\n",
       "<style scoped>\n",
       "    .dataframe tbody tr th:only-of-type {\n",
       "        vertical-align: middle;\n",
       "    }\n",
       "\n",
       "    .dataframe tbody tr th {\n",
       "        vertical-align: top;\n",
       "    }\n",
       "\n",
       "    .dataframe thead th {\n",
       "        text-align: right;\n",
       "    }\n",
       "</style>\n",
       "<table border=\"1\" class=\"dataframe\">\n",
       "  <thead>\n",
       "    <tr style=\"text-align: right;\">\n",
       "      <th></th>\n",
       "      <th>cheese</th>\n",
       "      <th>example</th>\n",
       "      <th>and</th>\n",
       "      <th>simple</th>\n",
       "      <th>mouse</th>\n",
       "      <th>cats</th>\n",
       "      <th>dogs</th>\n",
       "      <th>with</th>\n",
       "      <th>another</th>\n",
       "    </tr>\n",
       "  </thead>\n",
       "  <tbody>\n",
       "    <tr>\n",
       "      <th>0</th>\n",
       "      <td>0.000000</td>\n",
       "      <td>0.0</td>\n",
       "      <td>0.0</td>\n",
       "      <td>0.0</td>\n",
       "      <td>0.050683</td>\n",
       "      <td>0.050683</td>\n",
       "      <td>0.050683</td>\n",
       "      <td>0.0</td>\n",
       "      <td>0.000000</td>\n",
       "    </tr>\n",
       "    <tr>\n",
       "      <th>1</th>\n",
       "      <td>0.000000</td>\n",
       "      <td>0.0</td>\n",
       "      <td>0.0</td>\n",
       "      <td>0.0</td>\n",
       "      <td>0.000000</td>\n",
       "      <td>0.057924</td>\n",
       "      <td>0.057924</td>\n",
       "      <td>0.0</td>\n",
       "      <td>0.057924</td>\n",
       "    </tr>\n",
       "    <tr>\n",
       "      <th>2</th>\n",
       "      <td>0.156945</td>\n",
       "      <td>0.0</td>\n",
       "      <td>0.0</td>\n",
       "      <td>0.0</td>\n",
       "      <td>0.057924</td>\n",
       "      <td>0.000000</td>\n",
       "      <td>0.000000</td>\n",
       "      <td>0.0</td>\n",
       "      <td>0.057924</td>\n",
       "    </tr>\n",
       "  </tbody>\n",
       "</table>\n",
       "</div>"
      ],
      "text/plain": [
       "     cheese  example  and  simple     mouse      cats      dogs  with  \\\n",
       "0  0.000000      0.0  0.0     0.0  0.050683  0.050683  0.050683   0.0   \n",
       "1  0.000000      0.0  0.0     0.0  0.000000  0.057924  0.057924   0.0   \n",
       "2  0.156945      0.0  0.0     0.0  0.057924  0.000000  0.000000   0.0   \n",
       "\n",
       "    another  \n",
       "0  0.000000  \n",
       "1  0.057924  \n",
       "2  0.057924  "
      ]
     },
     "execution_count": 138,
     "metadata": {},
     "output_type": "execute_result"
    }
   ],
   "source": [
    "pd.DataFrame([tf_idf_A, tf_idf_B, tf_idf_C])"
   ]
  },
  {
   "cell_type": "markdown",
   "metadata": {},
   "source": [
    "# For clustering we must use tf-idf weights\n",
    "the example above is just an example, in practice it is better to apply [TfidfVectorizer from sklearn](http://scikit-learn.org/stable/modules/generated/sklearn.feature_extraction.text.TfidfVectorizer.html)"
   ]
  },
  {
   "cell_type": "code",
   "execution_count": 54,
   "metadata": {},
   "outputs": [],
   "source": [
    "from sklearn.feature_extraction.text import TfidfVectorizer\n",
    "from sklearn.cluster import KMeans"
   ]
  },
  {
   "cell_type": "markdown",
   "metadata": {},
   "source": [
    "## Full text for clusterring\n",
    "\n",
    "This corpus contain some strings about Google, some strings about TF-IDF from Wikipedia, and some strings about Taylor Swift . Just for example"
   ]
  },
  {
   "cell_type": "code",
   "execution_count": 142,
   "metadata": {},
   "outputs": [],
   "source": [
    "all_text = \"\"\"\n",
    "Google and Facebook are strangling the free press to death. Democracy is the loser,Google is a great company\n",
    "Your 60-second guide to security stuff Google touted today at Next '18\n",
    "A Guide to Using Android Without Selling Your Soul to Google\n",
    "Review: Lenovo’s Google Smart Display is pretty and intelligent\n",
    "Google Maps user spots mysterious object submerged off the coast of Greece - and no-one knows what it is. Google have been helping \n",
    "Android is from google, it is better than IOS from Apple\n",
    "In information retrieval, tf–idf or TFIDF, short for term frequency–inverse document frequency\n",
    "tfidf is a numerical statistic that is intended to reflect how important a word is to a document in a collection or corpus.\n",
    "It is often used as a weighting factor in searches of information retrieval text mining, and user modeling. \n",
    "The tf-idf value increases proportionally to the number of times a word appears in the document and is offset by the frequency of the word in the corpus\n",
    "Taylor Alison Swift is an American singer-songwriter. \n",
    "Taylor is known for narrative songs about her personal life\n",
    "Her songs have received widespread media coverage.\n",
    "Taylor's album won four Grammy Awards.\n",
    "Taylor is the youngest Grammy Album of the Year winner.\n",
    "\"\"\".split(\"\\n\")[1:-1]"
   ]
  },
  {
   "cell_type": "code",
   "execution_count": 107,
   "metadata": {},
   "outputs": [],
   "source": [
    "all_text1 = \"\"\"\n",
    "Google is a great company, Android is great open source product\n",
    "Your 60 second guide to security stuff Google touted today\n",
    "A Guide to Using Android Without Selling Your Soul to Google\n",
    "Review: Lenovo Google Smart Display is pretty and intelligent\n",
    "Google Maps user spots mysterious object submerged off the coast of Greece - and no-one knows what it is. Google have been helping \n",
    "Android is from google, it is better than IOS from Apple\n",
    "In information retrieval, tf–idf or TFIDF, short for term frequency–inverse document frequency\n",
    "tfidf is a numerical statistic that is intended to reflect how important a word is to a document in a collection or corpus.\n",
    "It is often used as a weighting factor in searches of information retrieval text mining, and user modeling. \n",
    "The tf-idf value increases proportionally to the number of times a word appears in the document and is offset by the frequency of the word in the corpus\n",
    "Taylor Alison Swift is an American singer-songwriter. \n",
    "Taylor is known for narrative songs about her personal life\n",
    "Her songs have received widespread media coverage.\n",
    "Taylor's album won four Grammy Awards.\n",
    "Taylor is the youngest Grammy Album of the Year winner,and her songs in the album are good.\n",
    "\"\"\".split(\"\\n\")[1:-1]"
   ]
  },
  {
   "cell_type": "markdown",
   "metadata": {},
   "source": [
    "## Preprocessing and tokenizing\n",
    "Firstly, we must bring every chars to lowercase and remove all punctuation, because it's not important for our task, but is very harmful for clustering algorithm. \n",
    "After that, we'll split strings to array of words.\n",
    "\n",
    "line = re.sub(r\"[{}]\".format(string.punctuation), \" \", line)使用Python的re（正则表达式）模块来去除字符串中的所有标点符号。\n",
    "re是Python中用于处理正则表达式的标准库模块。\n",
    "sub是re模块中的一个函数，用于执行所谓的“替换操作”。它接受一个正则表达式模式，一个替换字符串，以及要操作的原始字符串，并在原始字符串中查找与正则表达式模式匹配的所有子串，并将它们替换为提供的替换字符串。\n",
    "r\"[{}]\".format(string.punctuation)\"是一个正则表达式模式，用于匹配字符串中的所有标点符号。string.punctuation是Python标准库string模块中的一个预定义字符串，包含了常见的标点符号，如句号、逗号、问号等。正则表达式中的方括号[]用于定义一个字符集，{}是格式化字符串的占位符，用于在运行时插入string.punctuation。\n",
    "\" \"：这是用来替换匹配到的标点符号的字符串。在这里，它代表一个空格字符。\n",
    "因此这行代码的作用是：遍历原始字符串line中的每个字符，检查它是否是标点符号；如果是，就用一个空格替换它；这个过程对字符串中的所有匹配项重复执行，最终删除所有的标点符号，只留下空格分隔的单词。"
   ]
  },
  {
   "cell_type": "code",
   "execution_count": 143,
   "metadata": {},
   "outputs": [],
   "source": [
    "def preprocessing(line):\n",
    "    line = line.lower()\n",
    "    line = re.sub(r\"[{}]\".format(string.punctuation), \" \", line)\n",
    "    return line"
   ]
  },
  {
   "cell_type": "code",
   "execution_count": 144,
   "metadata": {},
   "outputs": [
    {
     "name": "stdout",
     "output_type": "stream",
     "text": [
      "{'review', 'modeling', 'received', 'are', 'display', 'greece', 'swift', 'alison', 'four', 'grammy', 'off', 'retrieval', 'what', 'that', 'used', 'year', 'it', 'or', 'collection', 'to', 'winner', 'facebook', 'her', 'text', 'media', 'coverage', 's', 'user', 'than', 'numerical', 'document', 'statistic', 'won', 'selling', 'company', 'without', 'term', '60', 'touted', 'knows', 'in', 'factor', 'increases', 'security', 'an', 'life', 'tf–idf', 'word', 'about', 'using', 'have', 'free', 'mysterious', 'as', 'appears', 'awards', 'helping', 'tfidf', 'weighting', 'searches', 'from', 'is', 'second', 'american', 'reflect', 'frequency', 'today', 'tf', 'intelligent', 'short', 'object', 'and', 'at', 'apple', '18', 'maps', 'been', 'often', 'times', 'of', 'number', 'no', 'how', 'a', 'stuff', 'smart', 'google', 'information', 'spots', 'important', 'widespread', 'death', 'the', 'loser', 'idf', 'pretty', 'proportionally', 'taylor', 'ios', 'personal', 'songs', 'submerged', 'guide', 'intended', 'offset', 'strangling', 'your', 'democracy', 'one', 'soul', 'better', 'android', 'known', 'album', 'youngest', 'great', 'press', 'coast', 'singer', 'corpus', 'songwriter', 'for', 'narrative', 'mining', 'by', 'frequency–inverse', 'next', 'value', 'lenovo’s'}\n"
     ]
    },
    {
     "data": {
      "text/plain": [
       "129"
      ]
     },
     "execution_count": 144,
     "metadata": {},
     "output_type": "execute_result"
    }
   ],
   "source": [
    "#check the number of different words \n",
    "words = []\n",
    "for line in all_text:\n",
    "    line = line.lower()\n",
    "    line = re.sub(r\"[{}]\".format(string.punctuation), \" \", line)\n",
    "    words = set(words).union(set(line.split()))\n",
    "    \n",
    "    \n",
    "print(words)\n",
    "len(words)  \n"
   ]
  },
  {
   "cell_type": "markdown",
   "metadata": {},
   "source": [
    "Now, let's calculate tf-idf for this corpus"
   ]
  },
  {
   "cell_type": "code",
   "execution_count": 145,
   "metadata": {},
   "outputs": [],
   "source": [
    "tfidf_vectorizer = TfidfVectorizer(preprocessor=preprocessing)\n",
    "tfidf = tfidf_vectorizer.fit_transform(all_text)\n",
    "#print(tfidf)"
   ]
  },
  {
   "cell_type": "markdown",
   "metadata": {},
   "source": [
    "And train simple kmeans model with k = 3\n",
    "\n",
    "K-means是一种聚类算法，它旨在将数据集分成K个簇（cluster），其中K是用户指定的簇数。算法的目标是将每个簇内的数据点之间的距离最小化，同时将不同簇之间的数据点之间的距离最大化。\n",
    "\n",
    "The k-means method is a clustering algorithm used in unsupervised machine learning to partition a dataset into k distinct clusters, where k is a user-specified number of clusters. The goal of the algorithm is to minimize the distance between data points within the same cluster and maximize the distance between data points in different clusters."
   ]
  },
  {
   "cell_type": "code",
   "execution_count": 146,
   "metadata": {},
   "outputs": [
    {
     "name": "stderr",
     "output_type": "stream",
     "text": [
      "C:\\ProgramData\\Anaconda3\\lib\\site-packages\\sklearn\\cluster\\_kmeans.py:870: FutureWarning: The default value of `n_init` will change from 10 to 'auto' in 1.4. Set the value of `n_init` explicitly to suppress the warning\n",
      "  warnings.warn(\n"
     ]
    }
   ],
   "source": [
    "kmeans = KMeans(n_clusters=3).fit(tfidf)"
   ]
  },
  {
   "cell_type": "code",
   "execution_count": 120,
   "metadata": {},
   "outputs": [
    {
     "data": {
      "text/html": [
       "<div>\n",
       "<style scoped>\n",
       "    .dataframe tbody tr th:only-of-type {\n",
       "        vertical-align: middle;\n",
       "    }\n",
       "\n",
       "    .dataframe tbody tr th {\n",
       "        vertical-align: top;\n",
       "    }\n",
       "\n",
       "    .dataframe thead th {\n",
       "        text-align: right;\n",
       "    }\n",
       "</style>\n",
       "<table border=\"1\" class=\"dataframe\">\n",
       "  <thead>\n",
       "    <tr style=\"text-align: right;\">\n",
       "      <th></th>\n",
       "      <th>0</th>\n",
       "      <th>1</th>\n",
       "      <th>2</th>\n",
       "      <th>3</th>\n",
       "      <th>4</th>\n",
       "      <th>5</th>\n",
       "      <th>6</th>\n",
       "      <th>7</th>\n",
       "      <th>8</th>\n",
       "      <th>9</th>\n",
       "      <th>10</th>\n",
       "      <th>11</th>\n",
       "      <th>12</th>\n",
       "      <th>13</th>\n",
       "      <th>14</th>\n",
       "    </tr>\n",
       "  </thead>\n",
       "  <tbody>\n",
       "    <tr>\n",
       "      <th>0</th>\n",
       "      <td>False</td>\n",
       "      <td>False</td>\n",
       "      <td>False</td>\n",
       "      <td>False</td>\n",
       "      <td>False</td>\n",
       "      <td>False</td>\n",
       "      <td>False</td>\n",
       "      <td>False</td>\n",
       "      <td>False</td>\n",
       "      <td>False</td>\n",
       "      <td>True</td>\n",
       "      <td>True</td>\n",
       "      <td>True</td>\n",
       "      <td>True</td>\n",
       "      <td>False</td>\n",
       "    </tr>\n",
       "    <tr>\n",
       "      <th>1</th>\n",
       "      <td>False</td>\n",
       "      <td>False</td>\n",
       "      <td>False</td>\n",
       "      <td>False</td>\n",
       "      <td>True</td>\n",
       "      <td>False</td>\n",
       "      <td>True</td>\n",
       "      <td>True</td>\n",
       "      <td>True</td>\n",
       "      <td>True</td>\n",
       "      <td>False</td>\n",
       "      <td>False</td>\n",
       "      <td>False</td>\n",
       "      <td>False</td>\n",
       "      <td>True</td>\n",
       "    </tr>\n",
       "    <tr>\n",
       "      <th>2</th>\n",
       "      <td>True</td>\n",
       "      <td>True</td>\n",
       "      <td>True</td>\n",
       "      <td>True</td>\n",
       "      <td>False</td>\n",
       "      <td>True</td>\n",
       "      <td>False</td>\n",
       "      <td>False</td>\n",
       "      <td>False</td>\n",
       "      <td>False</td>\n",
       "      <td>False</td>\n",
       "      <td>False</td>\n",
       "      <td>False</td>\n",
       "      <td>False</td>\n",
       "      <td>False</td>\n",
       "    </tr>\n",
       "  </tbody>\n",
       "</table>\n",
       "</div>"
      ],
      "text/plain": [
       "      0      1      2      3      4      5      6      7      8      9   \\\n",
       "0  False  False  False  False  False  False  False  False  False  False   \n",
       "1  False  False  False  False   True  False   True   True   True   True   \n",
       "2   True   True   True   True  False   True  False  False  False  False   \n",
       "\n",
       "      10     11     12     13     14  \n",
       "0   True   True   True   True  False  \n",
       "1  False  False  False  False   True  \n",
       "2  False  False  False  False  False  "
      ]
     },
     "execution_count": 120,
     "metadata": {},
     "output_type": "execute_result"
    }
   ],
   "source": [
    "#print(kmeans.cluster_centers_)\n",
    "pd.DataFrame([kmeans.labels_==0,kmeans.labels_==1,kmeans.labels_==2])"
   ]
  },
  {
   "cell_type": "markdown",
   "metadata": {},
   "source": [
    "Predictions"
   ]
  },
  {
   "cell_type": "code",
   "execution_count": 148,
   "metadata": {},
   "outputs": [
    {
     "data": {
      "text/plain": [
       "array([2, 0, 0, 1])"
      ]
     },
     "execution_count": 148,
     "metadata": {},
     "output_type": "execute_result"
    }
   ],
   "source": [
    "lines_for_predicting = [\"tfidf\",\"tfidf is great\", \"Google  android system is widely used.\",\"Taylor swift is great singer\"]\n",
    "kmeans.predict(tfidf_vectorizer.transform(lines_for_predicting))"
   ]
  },
  {
   "cell_type": "code",
   "execution_count": 119,
   "metadata": {},
   "outputs": [
    {
     "name": "stdout",
     "output_type": "stream",
     "text": [
      "  (0, 98)\t1.0\n",
      "  (1, 98)\t0.889354675226266\n",
      "  (1, 47)\t0.4572179585855993\n",
      "  (2, 106)\t0.6817346932385471\n",
      "  (2, 47)\t0.3043331735210504\n",
      "  (2, 29)\t0.40439480336945227\n",
      "  (2, 7)\t0.5282839866372372\n",
      "  (3, 94)\t0.42807465401963357\n",
      "  (3, 93)\t0.6094031292467774\n",
      "  (3, 83)\t0.6094031292467774\n",
      "  (3, 47)\t0.2720436411946478\n"
     ]
    }
   ],
   "source": [
    "tfidf_vectorizer.transform(lines_for_predicting)\n",
    "print(tfidf_vectorizer.transform(lines_for_predicting))"
   ]
  },
  {
   "cell_type": "code",
   "execution_count": null,
   "metadata": {},
   "outputs": [],
   "source": []
  }
 ],
 "metadata": {
  "kernelspec": {
   "display_name": "Python 3 (ipykernel)",
   "language": "python",
   "name": "python3"
  },
  "language_info": {
   "codemirror_mode": {
    "name": "ipython",
    "version": 3
   },
   "file_extension": ".py",
   "mimetype": "text/x-python",
   "name": "python",
   "nbconvert_exporter": "python",
   "pygments_lexer": "ipython3",
   "version": "3.9.13"
  }
 },
 "nbformat": 4,
 "nbformat_minor": 2
}
