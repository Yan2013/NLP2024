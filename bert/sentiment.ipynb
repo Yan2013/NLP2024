{
 "cells": [
  {
   "cell_type": "code",
   "execution_count": 11,
   "metadata": {},
   "outputs": [],
   "source": [
    "# if you do not have transformers, please !pip install transformers\n",
    "import transformers\n",
    "from transformers import get_linear_schedule_with_warmup\n",
    "from transformers import BertTokenizer\n",
    "from transformers import BertForSequenceClassification\n",
    "from transformers import AdamW\n",
    "\n",
    "# if you do not have torch, please refer to https://pytorch.org/ [INSTALL PYTORCH]\n",
    "import torch\n",
    "from torch.utils.data import TensorDataset\n",
    "from torch.utils.data import DataLoader\n",
    "from torch.utils.data import random_split\n",
    "\n",
    "import pandas as pd\n",
    "import re\n",
    "import string\n",
    "import operator\n",
    "import numpy as np\n",
    "import random\n",
    "\n",
    "from sklearn.model_selection import StratifiedKFold, StratifiedShuffleSplit\n",
    "from sklearn.metrics import precision_score, recall_score, f1_score"
   ]
  },
  {
   "cell_type": "code",
   "execution_count": 12,
   "metadata": {},
   "outputs": [
    {
     "name": "stdout",
     "output_type": "stream",
     "text": [
      "4.40.2\n",
      "\n",
      "\n",
      "cuda\n"
     ]
    }
   ],
   "source": [
    "print(transformers.__version__)\n",
    "seed = 38\n",
    "device = torch.device('cuda')\n",
    "print('\\n')\n",
    "print(device)\n",
    "\n",
    "random.seed(seed)\n",
    "np.random.seed(seed)\n",
    "torch.manual_seed(seed)\n",
    "torch.cuda.manual_seed_all(seed)\n",
    "torch.backends.cudnn.deterministic = True"
   ]
  },
  {
   "cell_type": "code",
   "execution_count": 13,
   "metadata": {},
   "outputs": [
    {
     "name": "stderr",
     "output_type": "stream",
     "text": [
      "[nltk_data] Downloading package stopwords to\n",
      "[nltk_data]     C:\\Users\\guoya\\AppData\\Roaming\\nltk_data...\n",
      "[nltk_data]   Package stopwords is already up-to-date!\n",
      "c:\\Users\\guoya\\anaconda3\\envs\\embed\\Lib\\site-packages\\huggingface_hub\\file_download.py:1132: FutureWarning: `resume_download` is deprecated and will be removed in version 1.0.0. Downloads always resume when possible. If you want to force a new download, use `force_download=True`.\n",
      "  warnings.warn(\n"
     ]
    },
    {
     "name": "stdout",
     "output_type": "stream",
     "text": [
      "(4000, 2) (500, 2) (500, 2)\n",
      "\n",
      "\n",
      "Text Pre-Processing Finish!\n",
      "(4000, 3) (500, 2) (500, 3)\n"
     ]
    }
   ],
   "source": [
    "from nltk.corpus import stopwords\n",
    "import nltk\n",
    "\n",
    "nltk.download('stopwords')\n",
    "stop = stopwords.words('english')\n",
    "\n",
    "df_train = pd.read_csv('./dataset/Train.csv')\n",
    "df_test = pd.read_csv('./dataset/Test.csv')\n",
    "df_val = pd.read_csv('./dataset/Valid.csv')\n",
    "tokenizer = BertTokenizer.from_pretrained('bert-base-uncased', do_lower_case=True)\n",
    "\n",
    "\"\"\"\n",
    "df_train = df_train[:4000]\n",
    "df_test = df_test[:500]\n",
    "df_val = df_val[:500]\n",
    "\"\"\"\n",
    "\n",
    "print(df_train.shape, df_test.shape, df_val.shape)\n",
    "print('\\n')\n",
    "# check the model max len = 512\n",
    "# print(tokenizer)\n",
    "# get the list of {content, token, ids}\n",
    "\n",
    "df_val['pre_text'] = df_val['text'].str.lower()\n",
    "df_val['pre_text'] = df_val['text'].str.replace(r'[^\\w\\s]+', '')\n",
    "df_val['pre_text'] = df_val['text'].str.replace('<br />','')\n",
    "df_val['pre_text'] = df_val['text'].str.replace('<br />','')\n",
    "df_val['pre_text'] = df_val['text'].apply(lambda x: ' '.join([word for word in x.split() if word not in (stop)]))\n",
    "\n",
    "df_train['pre_text'] = df_train['text'].str.lower()\n",
    "df_train['pre_text'] = df_train['text'].str.replace(r'[^\\w\\s]+', '')\n",
    "df_train['pre_text'] = df_train['text'].str.replace('<br />','')\n",
    "df_train['pre_text'] = df_train['text'].str.replace('<br />','')\n",
    "df_train['pre_text'] = df_train['text'].apply(lambda x: ' '.join([word for word in x.split() if word not in (stop)]))\n",
    "\n",
    "print('Text Pre-Processing Finish!')\n",
    "\n",
    "# To simplify the process, I make all df_val['text'] = df_val['pre_text']; df_train['text'] = df_train['pre_text']\n",
    "df_val['text'] = df_val['pre_text']\n",
    "df_train['text'] = df_train['pre_text']\n",
    "\n",
    "print(df_train.shape, df_test.shape, df_val.shape)\n",
    "content = df_train['text'].values\n",
    "labels = df_train['label'].values"
   ]
  },
  {
   "cell_type": "code",
   "execution_count": 14,
   "metadata": {},
   "outputs": [],
   "source": [
    "def encoding_process(_content):\n",
    "    get_ids = []    \n",
    "    for text in _content:\n",
    "        input_ids = tokenizer.encode(\n",
    "                        text,                      \n",
    "                        add_special_tokens = True,\n",
    "                        max_length = 256,\n",
    "                        pad_to_max_length = True, \n",
    "                        return_tensors = 'pt')\n",
    "        get_ids.append(input_ids)    \n",
    "    \n",
    "    get_ids = torch.cat(get_ids, dim=0)\n",
    "    return get_ids"
   ]
  },
  {
   "cell_type": "code",
   "execution_count": 15,
   "metadata": {},
   "outputs": [
    {
     "name": "stderr",
     "output_type": "stream",
     "text": [
      "Truncation was not explicitly activated but `max_length` is provided a specific value, please use `truncation=True` to explicitly truncate examples to max length. Defaulting to 'longest_first' truncation strategy. If you encode pairs of sequences (GLUE-style) with the tokenizer you can select this strategy more precisely by providing a specific strategy to `truncation`.\n",
      "c:\\Users\\guoya\\anaconda3\\envs\\embed\\Lib\\site-packages\\transformers\\tokenization_utils_base.py:2674: FutureWarning: The `pad_to_max_length` argument is deprecated and will be removed in a future version, use `padding=True` or `padding='longest'` to pad to the longest sequence in the batch, or use `padding='max_length'` to pad to a max length. In this case, you can give a specific length with `max_length` (e.g. `max_length=45`) or leave max_length to None to pad to the maximal input size of the model (e.g. 512 for Bert).\n",
      "  warnings.warn(\n"
     ]
    }
   ],
   "source": [
    "# make sure return_dict is not default\n",
    "return_dict = False\n",
    "\n",
    "# Training dataset \n",
    "content = df_train['text'].values\n",
    "labels = df_train['label'].values\n",
    "get_ids = encoding_process(content)\n",
    "labels = torch.tensor(labels)\n",
    "\n",
    "# Validation dataset\n",
    "val_content = df_val['text'].values\n",
    "val_labels = df_val['label'].values\n",
    "val_get_ids = encoding_process(val_content)\n",
    "val_labels = torch.tensor(val_labels)"
   ]
  },
  {
   "cell_type": "code",
   "execution_count": 16,
   "metadata": {},
   "outputs": [
    {
     "name": "stderr",
     "output_type": "stream",
     "text": [
      "C:\\Users\\guoya\\AppData\\Local\\Temp\\ipykernel_16524\\387985535.py:4: UserWarning: To copy construct from a tensor, it is recommended to use sourceTensor.clone().detach() or sourceTensor.clone().detach().requires_grad_(True), rather than torch.tensor(sourceTensor).\n",
      "  train_dataset = TensorDataset(torch.tensor(get_ids), torch.tensor(labels))\n",
      "C:\\Users\\guoya\\AppData\\Local\\Temp\\ipykernel_16524\\387985535.py:9: UserWarning: To copy construct from a tensor, it is recommended to use sourceTensor.clone().detach() or sourceTensor.clone().detach().requires_grad_(True), rather than torch.tensor(sourceTensor).\n",
      "  val_dataset = TensorDataset(torch.tensor(val_get_ids), torch.tensor(val_labels))\n"
     ]
    }
   ],
   "source": [
    "\n",
    "# 定义批量大小\n",
    "batch_size = 32  # 你可以根据实际情况调整批量大小\n",
    "\n",
    "train_dataset = TensorDataset(torch.tensor(get_ids), torch.tensor(labels))\n",
    "\n",
    "# 创建 DataLoader2\n",
    "train_dataloader = DataLoader(train_dataset, batch_size=batch_size, shuffle=True)\n",
    "\n",
    "val_dataset = TensorDataset(torch.tensor(val_get_ids), torch.tensor(val_labels))\n",
    "\n",
    "# 创建 DataLoader\n",
    "val_dataloader = DataLoader(val_dataset, batch_size=batch_size, shuffle=True)"
   ]
  },
  {
   "cell_type": "code",
   "execution_count": 17,
   "metadata": {},
   "outputs": [],
   "source": [
    "epochs = 1"
   ]
  },
  {
   "cell_type": "code",
   "execution_count": 18,
   "metadata": {},
   "outputs": [
    {
     "name": "stderr",
     "output_type": "stream",
     "text": [
      "c:\\Users\\guoya\\anaconda3\\envs\\embed\\Lib\\site-packages\\huggingface_hub\\file_download.py:1132: FutureWarning: `resume_download` is deprecated and will be removed in version 1.0.0. Downloads always resume when possible. If you want to force a new download, use `force_download=True`.\n",
      "  warnings.warn(\n",
      "Some weights of BertForSequenceClassification were not initialized from the model checkpoint at bert-base-uncased and are newly initialized: ['classifier.bias', 'classifier.weight']\n",
      "You should probably TRAIN this model on a down-stream task to be able to use it for predictions and inference.\n",
      "c:\\Users\\guoya\\anaconda3\\envs\\embed\\Lib\\site-packages\\transformers\\optimization.py:521: FutureWarning: This implementation of AdamW is deprecated and will be removed in a future version. Use the PyTorch implementation torch.optim.AdamW instead, or set `no_deprecation_warning=True` to disable this warning\n",
      "  warnings.warn(\n"
     ]
    }
   ],
   "source": [
    "from sklearn.metrics import accuracy_score\n",
    "# Bert-based-model\n",
    "# reference\n",
    "# https://huggingface.co/transformers/model_doc/bert.html\n",
    "model = BertForSequenceClassification.from_pretrained('bert-base-uncased', num_labels=2, output_attentions=False, output_hidden_states=False)\n",
    "\n",
    "\n",
    "\n",
    "model.cuda()\n",
    "optimizer = AdamW(model.parameters(), lr=2e-5)\n",
    "output_model = './model/imdb_bert.pth'\n",
    "total_steps = len(train_dataloader) * epochs\n",
    "scheduler = get_linear_schedule_with_warmup(optimizer, num_warmup_steps=0, num_training_steps=total_steps)\n",
    "\n",
    "# save\n",
    "def save(model, optimizer):\n",
    "    # save\n",
    "    torch.save({\n",
    "        'model_state_dict': model.state_dict(),\n",
    "        'optimizer_state_dict': optimizer.state_dict()\n",
    "    }, output_model)\n",
    "\n",
    "# reference\n",
    "# https://scikit-learn.org/stable/modules/generated/sklearn.metrics.f1_score.html\n",
    "\n",
    "def accuracy_calc(preds, labels):\n",
    "    \n",
    "    pre = np.argmax(preds, axis=1).flatten()\n",
    "    real = labels.flatten()\n",
    "    return accuracy_score(real, pre)\n",
    "\n",
    "def f1_accuracy(preds, labels):\n",
    "    \n",
    "    pre = np.argmax(preds, axis=1).flatten()\n",
    "    real = labels.flatten()\n",
    "    return f1_score(real, pre)"
   ]
  },
  {
   "cell_type": "code",
   "execution_count": 23,
   "metadata": {},
   "outputs": [
    {
     "name": "stderr",
     "output_type": "stream",
     "text": [
      "Some weights of BertForSequenceClassification were not initialized from the model checkpoint at bert-base-uncased and are newly initialized: ['classifier.bias', 'classifier.weight']\n",
      "You should probably TRAIN this model on a down-stream task to be able to use it for predictions and inference.\n"
     ]
    },
    {
     "name": "stdout",
     "output_type": "stream",
     "text": [
      "tensor([1, 1, 1])\n"
     ]
    }
   ],
   "source": [
    "model = BertForSequenceClassification.from_pretrained(\"bert-base-uncased\", num_labels=2)\n",
    "input_text = [\"I love this movie!\", \"This movie is horrible.\",\"No comment for the movie.\"]\n",
    "#labels = [1, 0]  # 1表示正面情感，0表示负面情感\n",
    "\n",
    "# 使用tokenizer对输入文本进行编码：将文本转换为模型可以理解的向量（input_ids和attention_mask）\n",
    "tokenizer = BertTokenizer.from_pretrained(\"bert-base-uncased\")\n",
    "encoded_inputs = tokenizer(input_text, padding=True, truncation=True, return_tensors=\"pt\")\n",
    "\n",
    "# 将编码结果输入到模型中，得到分类结果：\n",
    "with torch.no_grad():\n",
    "    outputs = model(**encoded_inputs)\n",
    "    logits = outputs.logits\n",
    "    # 对logits进行argmax操作，得到预测的类别\n",
    "    predictions = torch.argmax(logits, dim=-1)\n",
    "\n",
    "print(predictions)"
   ]
  },
  {
   "cell_type": "code",
   "execution_count": 19,
   "metadata": {},
   "outputs": [
    {
     "name": "stdout",
     "output_type": "stream",
     "text": [
      "Training loss is 0.46563229882717133\n",
      "Valid loss is: 0.3060372481122613\n",
      "Acc score is: 0.881640625\n",
      "F1_score is: 0.8748315596970645\n",
      "train_F1_score is: 0.7154248853232741\n",
      "\n",
      "\n"
     ]
    }
   ],
   "source": [
    "# 💥 IMPORTANT: Please create the directory in your environment, \n",
    "# such like './content/model/', in order to save your model in your local!\n",
    "for epoch in range(epochs):\n",
    "    model.train()\n",
    "    total_loss, total_val_loss = 0, 0\n",
    "    total_eval_accuracy = 0\n",
    "    _f1 = 0\n",
    "    _train_f1 = 0\n",
    "    for step, batch in enumerate(train_dataloader):\n",
    "        model.zero_grad()\n",
    "        loss, tval_ = model(batch[0].to(device), token_type_ids=None, attention_mask=(batch[0]>0).to(device), labels=batch[1].to(device),return_dict = False)\n",
    "        total_loss += loss.item()\n",
    "        loss.backward()\n",
    "        torch.nn.utils.clip_grad_norm_(model.parameters(), 1.0)\n",
    "        optimizer.step() \n",
    "        scheduler.step()\n",
    "        tval_ = tval_.detach().cpu().numpy()\n",
    "        label_ids = batch[1].to('cpu').numpy()\n",
    "        _train_f1 += f1_accuracy(tval_, label_ids)\n",
    "        \n",
    "    model.eval()\n",
    "    for i, batch in enumerate(val_dataloader):\n",
    "        with torch.no_grad():\n",
    "            loss, val_ = model(batch[0].to(device), token_type_ids=None, attention_mask=(batch[0]>0).to(device), labels=batch[1].to(device),return_dict = False)\n",
    "                \n",
    "            total_val_loss += loss.item()\n",
    "            \n",
    "            val_ = val_.detach().cpu().numpy()\n",
    "            label_ids = batch[1].to('cpu').numpy()\n",
    "            total_eval_accuracy += accuracy_calc(val_, label_ids)\n",
    "            _f1 += f1_accuracy(val_, label_ids)\n",
    "    \n",
    "    training_loss = total_loss / len(train_dataloader)\n",
    "    valid_loss = total_val_loss / len(val_dataloader)\n",
    "    _accuracy = total_eval_accuracy / len(val_dataloader)\n",
    "    _f1_score = _f1 / len(val_dataloader)\n",
    "    train_f1_score = _train_f1/ len(train_dataloader)\n",
    "    \n",
    "    print('Training loss is', training_loss)\n",
    "    print('Valid loss is:', valid_loss)\n",
    "    print('Acc score is:', _accuracy)\n",
    "    print('F1_score is:', _f1_score)\n",
    "    print('train_F1_score is:', train_f1_score)\n",
    "    print('\\n')\n",
    "\n",
    "save(model, optimizer)"
   ]
  },
  {
   "cell_type": "code",
   "execution_count": 25,
   "metadata": {},
   "outputs": [],
   "source": [
    "model.load_state_dict(torch.load('./model/imdb_bert.pth'),strict=False)\n",
    "\n",
    "# 将模型移动到适当的设备（CPU或GPU）\n",
    "device = torch.device(\"cuda\" if torch.cuda.is_available() else \"cpu\")\n",
    "model = model.to(device)\n"
   ]
  },
  {
   "cell_type": "code",
   "execution_count": 27,
   "metadata": {},
   "outputs": [
    {
     "name": "stderr",
     "output_type": "stream",
     "text": [
      "c:\\Users\\guoya\\anaconda3\\envs\\embed\\Lib\\site-packages\\huggingface_hub\\file_download.py:1132: FutureWarning: `resume_download` is deprecated and will be removed in version 1.0.0. Downloads always resume when possible. If you want to force a new download, use `force_download=True`.\n",
      "  warnings.warn(\n"
     ]
    },
    {
     "name": "stdout",
     "output_type": "stream",
     "text": [
      "tensor([1, 1, 1], device='cuda:0')\n"
     ]
    }
   ],
   "source": [
    "input_text = [\"I love this movie!\", \"This movie is horrible.\",\"No comment for the movie.\"]\n",
    "#labels = [1, 0]  # 1表示正面情感，0表示负面情感\n",
    "\n",
    "# 使用tokenizer对输入文本进行编码：将文本转换为模型可以理解的向量（input_ids和attention_mask）\n",
    "tokenizer = BertTokenizer.from_pretrained(\"bert-base-uncased\")\n",
    "encoded_inputs = tokenizer(input_text, padding=True, truncation=True, return_tensors=\"pt\")\n",
    "encoded_inputs= encoded_inputs.to(device)\n",
    "\n",
    "# 将编码结果输入到模型中，得到分类结果：\n",
    "with torch.no_grad():\n",
    "    outputs = model(**encoded_inputs)\n",
    "    logits = outputs.logits\n",
    "    # 对logits进行argmax操作，得到预测的类别\n",
    "    predictions = torch.argmax(logits, dim=-1)\n",
    "\n",
    "print(predictions)"
   ]
  }
 ],
 "metadata": {
  "kernelspec": {
   "display_name": "embed",
   "language": "python",
   "name": "python3"
  },
  "language_info": {
   "codemirror_mode": {
    "name": "ipython",
    "version": 3
   },
   "file_extension": ".py",
   "mimetype": "text/x-python",
   "name": "python",
   "nbconvert_exporter": "python",
   "pygments_lexer": "ipython3",
   "version": "3.11.4"
  }
 },
 "nbformat": 4,
 "nbformat_minor": 2
}
