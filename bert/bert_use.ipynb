{
 "cells": [
  {
   "cell_type": "code",
   "execution_count": 1,
   "metadata": {},
   "outputs": [
    {
     "name": "stderr",
     "output_type": "stream",
     "text": [
      "c:\\Users\\guoya\\anaconda3\\envs\\embed\\Lib\\site-packages\\tqdm\\auto.py:21: TqdmWarning: IProgress not found. Please update jupyter and ipywidgets. See https://ipywidgets.readthedocs.io/en/stable/user_install.html\n",
      "  from .autonotebook import tqdm as notebook_tqdm\n",
      "c:\\Users\\guoya\\anaconda3\\envs\\embed\\Lib\\site-packages\\huggingface_hub\\file_download.py:1132: FutureWarning: `resume_download` is deprecated and will be removed in version 1.0.0. Downloads always resume when possible. If you want to force a new download, use `force_download=True`.\n",
      "  warnings.warn(\n",
      "Some weights of BertForSequenceClassification were not initialized from the model checkpoint at bert-base-uncased and are newly initialized: ['classifier.bias', 'classifier.weight']\n",
      "You should probably TRAIN this model on a down-stream task to be able to use it for predictions and inference.\n"
     ]
    },
    {
     "name": "stdout",
     "output_type": "stream",
     "text": [
      "tensor([1, 1, 1])\n"
     ]
    }
   ],
   "source": [
    "from transformers import BertForSequenceClassification\n",
    "from transformers import BertTokenizer\n",
    "import torch\n",
    "\n",
    "# 准备输入文本和对应的标签\n",
    "model = BertForSequenceClassification.from_pretrained(\"bert-base-uncased\", num_labels=2)\n",
    "input_text = [\"I love this movie!\", \"This movie is horrible.\",\"No comment for the movie.\"]\n",
    "#labels = [1, 0]  # 1表示正面情感，0表示负面情感\n",
    "\n",
    "# 使用tokenizer对输入文本进行编码：将文本转换为模型可以理解的向量（input_ids和attention_mask）\n",
    "tokenizer = BertTokenizer.from_pretrained(\"bert-base-uncased\")\n",
    "encoded_inputs = tokenizer(input_text, padding=True, truncation=True, return_tensors=\"pt\")\n",
    "\n",
    "# 将编码结果输入到模型中，得到分类结果：\n",
    "with torch.no_grad():\n",
    "    outputs = model(**encoded_inputs)\n",
    "    logits = outputs.logits\n",
    "    # 对logits进行argmax操作，得到预测的类别\n",
    "    predictions = torch.argmax(logits, dim=-1)\n",
    "\n",
    "print(predictions)\n"
   ]
  },
  {
   "cell_type": "code",
   "execution_count": 16,
   "metadata": {},
   "outputs": [
    {
     "name": "stderr",
     "output_type": "stream",
     "text": [
      "The attention mask and the pad token id were not set. As a consequence, you may observe unexpected behavior. Please pass your input's `attention_mask` to obtain reliable results.\n",
      "Setting `pad_token_id` to `eos_token_id`:50256 for open-end generation.\n"
     ]
    },
    {
     "name": "stdout",
     "output_type": "stream",
     "text": [
      "Generated text 1: Long long time ago, the world was a land of great wealth and great wealth of people. Now, it is a land of great wealth and great wealth of people.\n",
      "\n",
      "The world is a land of great wealth and great wealth of people.\n"
     ]
    }
   ],
   "source": [
    "# 我们从transformers库中导入GPT2LMHeadModel和GPT2Tokenizer\n",
    "# GPT2LMHeadModel是GPT-2模型的一个版本，专门用于语言建模任务\n",
    "# GPT2Tokenizer是用于GPT-2模型的分词器\n",
    "from transformers import GPT2LMHeadModel, GPT2Tokenizer\n",
    "import torch\n",
    "\n",
    "# 一个预训练的GPT-2模型。(\"gpt2\")表示我们使用的是预训练的\"gpt2\"模型\n",
    "model = GPT2LMHeadModel.from_pretrained(\"gpt2\")\n",
    "\n",
    "# 定义一个字符串text，它将作为我们生成文本的起始\n",
    "text = \"Once upon a time,\"\n",
    "#text = \"很久很久以前\"\n",
    "text = \"Long long time ago,\"\n",
    "\n",
    "# 使用同样的预训练模型\"gpt2\"的分词器对输入文本进行编码。编码后的结果被存储在input_ids中：\n",
    "tokenizer = GPT2Tokenizer.from_pretrained(\"gpt2\")\n",
    "input_ids = tokenizer.encode(text, return_tensors=\"pt\")\n",
    "\n",
    "# 将编码后的input_ids输入到模型中，然后生成文本\n",
    "# model.generate函数的参数max_length=50表示生成的文本的最大长度为50\n",
    "# num_return_sequences=1表示我们只生成一条序列\n",
    "# 生成的文本被存储在outputs中\n",
    "# 然后我们使用分词器的batch_decode函数将生成的文本解码，得到我们可以阅读的文本\n",
    "with torch.no_grad():\n",
    "    outputs = model.generate(input_ids, max_length=50, num_return_sequences=1)\n",
    "    generated_texts = tokenizer.batch_decode(outputs, skip_special_tokens=True)\n",
    "\n",
    "for i, generated_text in enumerate(generated_texts):\n",
    "    print(f\"Generated text {i + 1}: {generated_text}\")\n",
    "\n"
   ]
  }
 ],
 "metadata": {
  "kernelspec": {
   "display_name": "base",
   "language": "python",
   "name": "python3"
  },
  "language_info": {
   "codemirror_mode": {
    "name": "ipython",
    "version": 3
   },
   "file_extension": ".py",
   "mimetype": "text/x-python",
   "name": "python",
   "nbconvert_exporter": "python",
   "pygments_lexer": "ipython3",
   "version": "3.11.4"
  }
 },
 "nbformat": 4,
 "nbformat_minor": 2
}
